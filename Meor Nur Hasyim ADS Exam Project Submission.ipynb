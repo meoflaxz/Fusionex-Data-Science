{
 "cells": [
  {
   "cell_type": "raw",
   "id": "97cfda6e",
   "metadata": {},
   "source": [
    "A) Conduct simple data exploration and data analysis on the given dataset .\n",
    "\n",
    "(**number your questions/tasks completed accordingly using python comments in each cell\n",
    "of your code)\n",
    "\n",
    "Applied Data Science Exam Project\n",
    "\n",
    "1) Display the number of attributes available in the dataset (exam_dataset.csv)?\n",
    "2) Find the dimension number of this dataset\n",
    "3) Display the average of these attributes: ‘Age’, ‘Bonus’ and ‘Years at\n",
    "Company’. Be sure to round your answer to 4 decimal places\n",
    "4) Find the minimum and maximum ‘Bonus’\n",
    "5) What are the departments in this dataset?\n",
    "6) Provide graphical visualization by plotting Histogram of ‘JobSatisfaction’ vs staff\n",
    "numbers’\n",
    "7) Find the correlation between ‘Bonus’ and ‘JobSatisfaction’\n",
    "8) Based on your findings, discuss briefly(you can either use comments/markdown to\n",
    "write your answer) on:\n",
    "a) Range of bonus at Company A\n",
    "b) Most and Least Frequent JobSatisfaction at Company A\n",
    "c) Discuss your observation on the distribution of bonus values\n",
    "d) Is there a linear relationship between bonus and JobSatisfaction\n",
    "at the company?"
   ]
  },
  {
   "cell_type": "code",
   "execution_count": 1,
   "id": "047c76e9",
   "metadata": {},
   "outputs": [],
   "source": [
    "import pandas as pd\n",
    "import numpy as np\n",
    "import matplotlib.pyplot as plt"
   ]
  },
  {
   "cell_type": "code",
   "execution_count": 2,
   "id": "ccdaeaf1",
   "metadata": {},
   "outputs": [],
   "source": [
    "data = pd.read_csv(r\"C:\\Users\\meorh\\Desktop\\Exam\\exam_dataset.csv\")"
   ]
  },
  {
   "cell_type": "code",
   "execution_count": 3,
   "id": "ecf4e013",
   "metadata": {},
   "outputs": [
    {
     "data": {
      "text/html": [
       "<div>\n",
       "<style scoped>\n",
       "    .dataframe tbody tr th:only-of-type {\n",
       "        vertical-align: middle;\n",
       "    }\n",
       "\n",
       "    .dataframe tbody tr th {\n",
       "        vertical-align: top;\n",
       "    }\n",
       "\n",
       "    .dataframe thead th {\n",
       "        text-align: right;\n",
       "    }\n",
       "</style>\n",
       "<table border=\"1\" class=\"dataframe\">\n",
       "  <thead>\n",
       "    <tr style=\"text-align: right;\">\n",
       "      <th></th>\n",
       "      <th>Age</th>\n",
       "      <th>BusinessTravel</th>\n",
       "      <th>MonthlyIncome</th>\n",
       "      <th>JobSatisfaction</th>\n",
       "      <th>Bonus</th>\n",
       "      <th>Department</th>\n",
       "      <th>DistanceFromHome</th>\n",
       "      <th>Education</th>\n",
       "      <th>EducationField</th>\n",
       "      <th>EmployeeCount</th>\n",
       "      <th>...</th>\n",
       "      <th>JobRole</th>\n",
       "      <th>MaritalStatus</th>\n",
       "      <th>PerformanceRating</th>\n",
       "      <th>StockOptionLevel</th>\n",
       "      <th>TrainingTimesLastYear</th>\n",
       "      <th>WorkLifeBalance</th>\n",
       "      <th>YearsAtCompany</th>\n",
       "      <th>YearsSinceLastPromotion</th>\n",
       "      <th>OverTime</th>\n",
       "      <th>Attrition</th>\n",
       "    </tr>\n",
       "  </thead>\n",
       "  <tbody>\n",
       "    <tr>\n",
       "      <th>0</th>\n",
       "      <td>41</td>\n",
       "      <td>Travel_Rarely</td>\n",
       "      <td>5993</td>\n",
       "      <td>4</td>\n",
       "      <td>17979</td>\n",
       "      <td>Sales</td>\n",
       "      <td>1</td>\n",
       "      <td>2</td>\n",
       "      <td>Life Sciences</td>\n",
       "      <td>1</td>\n",
       "      <td>...</td>\n",
       "      <td>Sales Executive</td>\n",
       "      <td>Single</td>\n",
       "      <td>3</td>\n",
       "      <td>0</td>\n",
       "      <td>0</td>\n",
       "      <td>1</td>\n",
       "      <td>6</td>\n",
       "      <td>0</td>\n",
       "      <td>Yes</td>\n",
       "      <td>Yes</td>\n",
       "    </tr>\n",
       "    <tr>\n",
       "      <th>1</th>\n",
       "      <td>49</td>\n",
       "      <td>Travel_Frequently</td>\n",
       "      <td>5130</td>\n",
       "      <td>2</td>\n",
       "      <td>20520</td>\n",
       "      <td>Research &amp; Development</td>\n",
       "      <td>8</td>\n",
       "      <td>1</td>\n",
       "      <td>Life Sciences</td>\n",
       "      <td>1</td>\n",
       "      <td>...</td>\n",
       "      <td>Research Scientist</td>\n",
       "      <td>Married</td>\n",
       "      <td>4</td>\n",
       "      <td>1</td>\n",
       "      <td>3</td>\n",
       "      <td>3</td>\n",
       "      <td>10</td>\n",
       "      <td>1</td>\n",
       "      <td>No</td>\n",
       "      <td>No</td>\n",
       "    </tr>\n",
       "    <tr>\n",
       "      <th>2</th>\n",
       "      <td>37</td>\n",
       "      <td>Travel_Rarely</td>\n",
       "      <td>2090</td>\n",
       "      <td>3</td>\n",
       "      <td>6270</td>\n",
       "      <td>Research &amp; Development</td>\n",
       "      <td>2</td>\n",
       "      <td>2</td>\n",
       "      <td>Other</td>\n",
       "      <td>1</td>\n",
       "      <td>...</td>\n",
       "      <td>Laboratory Technician</td>\n",
       "      <td>Single</td>\n",
       "      <td>3</td>\n",
       "      <td>0</td>\n",
       "      <td>3</td>\n",
       "      <td>3</td>\n",
       "      <td>0</td>\n",
       "      <td>0</td>\n",
       "      <td>Yes</td>\n",
       "      <td>Yes</td>\n",
       "    </tr>\n",
       "    <tr>\n",
       "      <th>3</th>\n",
       "      <td>33</td>\n",
       "      <td>Travel_Frequently</td>\n",
       "      <td>2909</td>\n",
       "      <td>3</td>\n",
       "      <td>8727</td>\n",
       "      <td>Research &amp; Development</td>\n",
       "      <td>3</td>\n",
       "      <td>4</td>\n",
       "      <td>Life Sciences</td>\n",
       "      <td>1</td>\n",
       "      <td>...</td>\n",
       "      <td>Research Scientist</td>\n",
       "      <td>Married</td>\n",
       "      <td>3</td>\n",
       "      <td>0</td>\n",
       "      <td>3</td>\n",
       "      <td>3</td>\n",
       "      <td>8</td>\n",
       "      <td>3</td>\n",
       "      <td>Yes</td>\n",
       "      <td>No</td>\n",
       "    </tr>\n",
       "    <tr>\n",
       "      <th>4</th>\n",
       "      <td>27</td>\n",
       "      <td>Travel_Rarely</td>\n",
       "      <td>3468</td>\n",
       "      <td>2</td>\n",
       "      <td>10404</td>\n",
       "      <td>Research &amp; Development</td>\n",
       "      <td>2</td>\n",
       "      <td>1</td>\n",
       "      <td>Medical</td>\n",
       "      <td>1</td>\n",
       "      <td>...</td>\n",
       "      <td>Laboratory Technician</td>\n",
       "      <td>Married</td>\n",
       "      <td>3</td>\n",
       "      <td>1</td>\n",
       "      <td>3</td>\n",
       "      <td>3</td>\n",
       "      <td>2</td>\n",
       "      <td>2</td>\n",
       "      <td>No</td>\n",
       "      <td>No</td>\n",
       "    </tr>\n",
       "  </tbody>\n",
       "</table>\n",
       "<p>5 rows × 24 columns</p>\n",
       "</div>"
      ],
      "text/plain": [
       "   Age     BusinessTravel  MonthlyIncome  JobSatisfaction  Bonus  \\\n",
       "0   41      Travel_Rarely           5993                4  17979   \n",
       "1   49  Travel_Frequently           5130                2  20520   \n",
       "2   37      Travel_Rarely           2090                3   6270   \n",
       "3   33  Travel_Frequently           2909                3   8727   \n",
       "4   27      Travel_Rarely           3468                2  10404   \n",
       "\n",
       "               Department  DistanceFromHome  Education EducationField  \\\n",
       "0                   Sales                 1          2  Life Sciences   \n",
       "1  Research & Development                 8          1  Life Sciences   \n",
       "2  Research & Development                 2          2          Other   \n",
       "3  Research & Development                 3          4  Life Sciences   \n",
       "4  Research & Development                 2          1        Medical   \n",
       "\n",
       "   EmployeeCount  ...                JobRole  MaritalStatus PerformanceRating  \\\n",
       "0              1  ...        Sales Executive         Single                 3   \n",
       "1              1  ...     Research Scientist        Married                 4   \n",
       "2              1  ...  Laboratory Technician         Single                 3   \n",
       "3              1  ...     Research Scientist        Married                 3   \n",
       "4              1  ...  Laboratory Technician        Married                 3   \n",
       "\n",
       "   StockOptionLevel TrainingTimesLastYear WorkLifeBalance  YearsAtCompany  \\\n",
       "0                 0                     0               1               6   \n",
       "1                 1                     3               3              10   \n",
       "2                 0                     3               3               0   \n",
       "3                 0                     3               3               8   \n",
       "4                 1                     3               3               2   \n",
       "\n",
       "   YearsSinceLastPromotion  OverTime  Attrition  \n",
       "0                        0       Yes        Yes  \n",
       "1                        1        No         No  \n",
       "2                        0       Yes        Yes  \n",
       "3                        3       Yes         No  \n",
       "4                        2        No         No  \n",
       "\n",
       "[5 rows x 24 columns]"
      ]
     },
     "execution_count": 3,
     "metadata": {},
     "output_type": "execute_result"
    }
   ],
   "source": [
    "data.head()"
   ]
  },
  {
   "cell_type": "code",
   "execution_count": 4,
   "id": "f1ecb4a2",
   "metadata": {},
   "outputs": [
    {
     "name": "stdout",
     "output_type": "stream",
     "text": [
      "<class 'pandas.core.frame.DataFrame'>\n",
      "RangeIndex: 1470 entries, 0 to 1469\n",
      "Data columns (total 24 columns):\n",
      " #   Column                   Non-Null Count  Dtype \n",
      "---  ------                   --------------  ----- \n",
      " 0   Age                      1470 non-null   int64 \n",
      " 1   BusinessTravel           1470 non-null   object\n",
      " 2   MonthlyIncome            1470 non-null   int64 \n",
      " 3   JobSatisfaction          1470 non-null   int64 \n",
      " 4   Bonus                    1470 non-null   int64 \n",
      " 5   Department               1470 non-null   object\n",
      " 6   DistanceFromHome         1470 non-null   int64 \n",
      " 7   Education                1470 non-null   int64 \n",
      " 8   EducationField           1470 non-null   object\n",
      " 9   EmployeeCount            1470 non-null   int64 \n",
      " 10  EmployeeNumber           1470 non-null   int64 \n",
      " 11  EnvironmentSatisfaction  1470 non-null   int64 \n",
      " 12  Gender                   1470 non-null   object\n",
      " 13  JobLevel                 1470 non-null   int64 \n",
      " 14  JobRole                  1470 non-null   object\n",
      " 15  MaritalStatus            1470 non-null   object\n",
      " 16  PerformanceRating        1470 non-null   int64 \n",
      " 17  StockOptionLevel         1470 non-null   int64 \n",
      " 18  TrainingTimesLastYear    1470 non-null   int64 \n",
      " 19  WorkLifeBalance          1470 non-null   int64 \n",
      " 20  YearsAtCompany           1470 non-null   int64 \n",
      " 21  YearsSinceLastPromotion  1470 non-null   int64 \n",
      " 22  OverTime                 1470 non-null   object\n",
      " 23  Attrition                1470 non-null   object\n",
      "dtypes: int64(16), object(8)\n",
      "memory usage: 275.8+ KB\n",
      " \n",
      "Number of attributes: 24\n"
     ]
    }
   ],
   "source": [
    "#1) Display the number of attributes available in the dataset (exam_dataset.csv)?\n",
    "\n",
    "data.info()\n",
    "\n",
    "print(\" \")\n",
    "print(\"Number of attributes:\", len(data.columns))"
   ]
  },
  {
   "cell_type": "code",
   "execution_count": 5,
   "id": "395da6af",
   "metadata": {},
   "outputs": [
    {
     "name": "stdout",
     "output_type": "stream",
     "text": [
      "Number of dimension number: 2\n"
     ]
    }
   ],
   "source": [
    "#2) Find the dimension number of this dataset\n",
    "\n",
    "print(\"Number of dimension number:\", data.ndim)"
   ]
  },
  {
   "cell_type": "code",
   "execution_count": 6,
   "id": "c84a08c3",
   "metadata": {},
   "outputs": [
    {
     "name": "stdout",
     "output_type": "stream",
     "text": [
      "Average of 'Age': 36.9238\n",
      "Average of 'Bonus': 20479.5014\n",
      "Average of 'Years at company': 7.0082\n"
     ]
    }
   ],
   "source": [
    "#3) Display the average of these attributes: ‘Age’, ‘Bonus’ and ‘Years at Company’. Be sure to round your answer to 4 decimal places\n",
    "\n",
    "avg_age = np.mean(data['Age'])\n",
    "avg_bonus = np.mean(data['Bonus'])\n",
    "avg_years_at_company = np.mean(data['YearsAtCompany'])\n",
    "\n",
    "print(\"Average of 'Age':\", round(avg_age, 4))\n",
    "print(\"Average of 'Bonus':\", round(avg_bonus, 4))\n",
    "print(\"Average of 'Years at company':\", round(avg_years_at_company, 4))"
   ]
  },
  {
   "cell_type": "code",
   "execution_count": 7,
   "id": "9c47c609",
   "metadata": {},
   "outputs": [
    {
     "name": "stdout",
     "output_type": "stream",
     "text": [
      "Minimum of 'Bonus': 3027\n",
      "Maximum of 'Bonus': 79892\n"
     ]
    }
   ],
   "source": [
    "#4) Find the minimum and maximum ‘Bonus’\n",
    "\n",
    "min_bonus = np.min(data['Bonus'])\n",
    "max_bonus = np.max(data['Bonus'])\n",
    "\n",
    "print(\"Minimum of 'Bonus':\", min_bonus)\n",
    "print(\"Maximum of 'Bonus':\", max_bonus)"
   ]
  },
  {
   "cell_type": "code",
   "execution_count": 8,
   "id": "6fd4b7b6",
   "metadata": {},
   "outputs": [
    {
     "name": "stdout",
     "output_type": "stream",
     "text": [
      "Department in this dataset ['Sales' 'Research & Development' 'Human Resources']\n"
     ]
    }
   ],
   "source": [
    "#5) What are the departments in this dataset?\n",
    "\n",
    "print(\"Department in this dataset\", data['Department'].unique())"
   ]
  },
  {
   "cell_type": "code",
   "execution_count": 9,
   "id": "93309fe9",
   "metadata": {},
   "outputs": [
    {
     "data": {
      "image/png": "[encoded data removed]",
      "text/plain": [
       "<Figure size 432x288 with 1 Axes>"
      ]
     },
     "metadata": {
      "needs_background": "light"
     },
     "output_type": "display_data"
    }
   ],
   "source": [
    "#6) Provide graphical visualization by plotting Histogram of ‘JobSatisfaction’ vs staff numbers’\n",
    "\n",
    "plt.hist(data['JobSatisfaction'])\n",
    "plt.title(\"Histogram of Jobsatisfaction\")\n",
    "plt.xlabel(\"Jobsatisfaction\")\n",
    "plt.ylabel(\"Numbers of Staff\")\n",
    "plt.show()"
   ]
  },
  {
   "cell_type": "code",
   "execution_count": 10,
   "id": "ece51c60",
   "metadata": {},
   "outputs": [
    {
     "name": "stdout",
     "output_type": "stream",
     "text": [
      "                 JobSatisfaction     Bonus\n",
      "JobSatisfaction         1.000000 -0.003652\n",
      "Bonus                  -0.003652  1.000000\n"
     ]
    }
   ],
   "source": [
    "#7) Find the correlation between ‘Bonus’ and ‘JobSatisfaction’\n",
    "\n",
    "value = data.iloc[:,[3,4]]\n",
    "corr = value.corr()\n",
    "print(corr)"
   ]
  },
  {
   "cell_type": "raw",
   "id": "47416211",
   "metadata": {},
   "source": [
    "8) Based on your findings, discuss briefly(you can either use comments/markdown to\n",
    "write your answer) on:\n",
    "a) Range of bonus at Company A\n",
    "b) Most and Least Frequent JobSatisfaction at Company A\n",
    "c) Discuss your observation on the distribution of bonus values\n",
    "d) Is there a linear relationship between bonus and JobSatisfaction\n",
    "at the company?"
   ]
  },
  {
   "cell_type": "code",
   "execution_count": 11,
   "id": "4e9a6e6b",
   "metadata": {},
   "outputs": [
    {
     "name": "stdout",
     "output_type": "stream",
     "text": [
      "Range of bonus at Company A: 76865\n"
     ]
    }
   ],
   "source": [
    "#a) Range of bonus at Company A\n",
    "\n",
    "range_bonus = max_bonus-min_bonus\n",
    "print(\"Range of bonus at Company A:\", range_bonus)"
   ]
  },
  {
   "cell_type": "code",
   "execution_count": 12,
   "id": "711c9348",
   "metadata": {},
   "outputs": [
    {
     "data": {
      "text/plain": [
       "count    1470.000000\n",
       "mean        2.728571\n",
       "std         1.102846\n",
       "min         1.000000\n",
       "25%         2.000000\n",
       "50%         3.000000\n",
       "75%         4.000000\n",
       "max         4.000000\n",
       "Name: JobSatisfaction, dtype: float64"
      ]
     },
     "execution_count": 12,
     "metadata": {},
     "output_type": "execute_result"
    }
   ],
   "source": [
    "#b) Most and Least Frequent JobSatisfaction at Company A\n",
    "\n",
    "data['JobSatisfaction'].describe()"
   ]
  },
  {
   "cell_type": "code",
   "execution_count": 13,
   "id": "d62c3c4a",
   "metadata": {},
   "outputs": [
    {
     "data": {
      "text/plain": [
       "734     1\n",
       "1077    1\n",
       "1078    1\n",
       "427     1\n",
       "1083    1\n",
       "       ..\n",
       "1036    4\n",
       "488     4\n",
       "489     4\n",
       "454     4\n",
       "0       4\n",
       "Name: JobSatisfaction, Length: 1470, dtype: int64"
      ]
     },
     "execution_count": 13,
     "metadata": {},
     "output_type": "execute_result"
    }
   ],
   "source": [
    "#b) Most and Least Frequent JobSatisfaction at Company A\n",
    "#finding most frequent and least through sort values\n",
    "\n",
    "data['JobSatisfaction'].sort_values()"
   ]
  },
  {
   "cell_type": "code",
   "execution_count": 14,
   "id": "ab3d596a",
   "metadata": {},
   "outputs": [
    {
     "name": "stdout",
     "output_type": "stream",
     "text": [
      "Most frequent Jobsatisfaction: 4\n",
      "Least frequent Jobsatisfaction: 1\n"
     ]
    }
   ],
   "source": [
    "#b) Most and Least Frequent JobSatisfaction at Company A\n",
    "\n",
    "print(\"Most frequent Jobsatisfaction: 4\")\n",
    "\n",
    "print(\"Least frequent Jobsatisfaction: 1\")"
   ]
  },
  {
   "cell_type": "code",
   "execution_count": 15,
   "id": "4725de1f",
   "metadata": {},
   "outputs": [
    {
     "data": {
      "text/plain": [
       "count     1470.000000\n",
       "mean     20479.501361\n",
       "std      15066.272964\n",
       "min       3027.000000\n",
       "25%       9333.750000\n",
       "50%      15484.500000\n",
       "75%      26103.750000\n",
       "max      79892.000000\n",
       "Name: Bonus, dtype: float64"
      ]
     },
     "execution_count": 15,
     "metadata": {},
     "output_type": "execute_result"
    },
    {
     "data": {
      "image/png": "[encoded data removed]",
      "text/plain": [
       "<Figure size 432x288 with 1 Axes>"
      ]
     },
     "metadata": {
      "needs_background": "light"
     },
     "output_type": "display_data"
    }
   ],
   "source": [
    "#c) Discuss your observation on the distribution of bonus values\n",
    "\n",
    "plt.hist(data['Bonus'])\n",
    "data['Bonus'].describe()"
   ]
  },
  {
   "cell_type": "raw",
   "id": "d80198a7",
   "metadata": {},
   "source": [
    "#c) Discuss your observation on the distribution of bonus values\n",
    "\n",
    "Based on the histogram plotted, distribution of bonus value is towards right.\n",
    "\n",
    "Also, we can see most of people in Company A receive an average of mean of 20479.501361, minimum of 3027.000000, and maximum value of 79892.000000."
   ]
  },
  {
   "cell_type": "code",
   "execution_count": 16,
   "id": "1d64391c",
   "metadata": {},
   "outputs": [
    {
     "name": "stdout",
     "output_type": "stream",
     "text": [
      "                 JobSatisfaction     Bonus\n",
      "JobSatisfaction         1.000000 -0.003652\n",
      "Bonus                  -0.003652  1.000000\n"
     ]
    }
   ],
   "source": [
    "#d) Is there a linear relationship between bonus and JobSatisfaction at the company?\n",
    "\n",
    "value = data.iloc[:,[3,4]]\n",
    "corr = value.corr()\n",
    "print(corr)"
   ]
  },
  {
   "cell_type": "code",
   "execution_count": 17,
   "id": "dd9a481b",
   "metadata": {},
   "outputs": [
    {
     "data": {
      "text/plain": [
       "<matplotlib.collections.PathCollection at 0x1ecf36fac70>"
      ]
     },
     "execution_count": 17,
     "metadata": {},
     "output_type": "execute_result"
    },
    {
     "data": {
      "image/png": "[encoded data removed]",
      "text/plain": [
       "<Figure size 432x288 with 1 Axes>"
      ]
     },
     "metadata": {
      "needs_background": "light"
     },
     "output_type": "display_data"
    }
   ],
   "source": [
    "plt.scatter(data['Bonus'], data['JobSatisfaction'])"
   ]
  },
  {
   "cell_type": "raw",
   "id": "41182cbf",
   "metadata": {},
   "source": [
    "...\n",
    "#d) Is there a linear relationship between bonus and JobSatisfaction at the company?\n",
    "\n",
    "Based on the correlation value of -0.003652, we can see it is approaching 0 value indicating it has very low correlation between both value.\n",
    "..."
   ]
  },
  {
   "cell_type": "raw",
   "id": "baa4614f",
   "metadata": {},
   "source": [
    "...\n",
    "B) Classification using Random Forest for: ‘Age’, ‘BusinessTravel’, ‘MonthlyIncome’\n",
    "and ‘JobSatisfaction’ to predict ‘Attrition’. Sample steps are as below:\n",
    "1) Import necessary libraries\n",
    "2) Import dataset (exam_dataset.csv)\n",
    "3) Allocate the relevant attributes as input and output\n",
    "4) Use LabelEncoder to encode categorical data\n",
    "5) Split your data into training and test sets with the appropriate proportions\n",
    "6) Normalized your data using StandardScaler\n",
    "7) Fit the and predict results using the Classifier\n",
    "8) Evaluate your results using confusion matrix and calculate the prediction accuracy\n",
    "9) Discuss your results and findings\n",
    "..."
   ]
  },
  {
   "cell_type": "code",
   "execution_count": 18,
   "id": "113ab8c1",
   "metadata": {},
   "outputs": [],
   "source": [
    "#1) Import necessary libraries\n",
    "\n",
    "import pandas as pd\n",
    "import numpy as np\n",
    "import matplotlib.pyplot as plt"
   ]
  },
  {
   "cell_type": "code",
   "execution_count": 19,
   "id": "fc49a6ef",
   "metadata": {
    "scrolled": true
   },
   "outputs": [
    {
     "data": {
      "text/html": [
       "<div>\n",
       "<style scoped>\n",
       "    .dataframe tbody tr th:only-of-type {\n",
       "        vertical-align: middle;\n",
       "    }\n",
       "\n",
       "    .dataframe tbody tr th {\n",
       "        vertical-align: top;\n",
       "    }\n",
       "\n",
       "    .dataframe thead th {\n",
       "        text-align: right;\n",
       "    }\n",
       "</style>\n",
       "<table border=\"1\" class=\"dataframe\">\n",
       "  <thead>\n",
       "    <tr style=\"text-align: right;\">\n",
       "      <th></th>\n",
       "      <th>Age</th>\n",
       "      <th>BusinessTravel</th>\n",
       "      <th>MonthlyIncome</th>\n",
       "      <th>JobSatisfaction</th>\n",
       "      <th>Bonus</th>\n",
       "      <th>Department</th>\n",
       "      <th>DistanceFromHome</th>\n",
       "      <th>Education</th>\n",
       "      <th>EducationField</th>\n",
       "      <th>EmployeeCount</th>\n",
       "      <th>...</th>\n",
       "      <th>JobRole</th>\n",
       "      <th>MaritalStatus</th>\n",
       "      <th>PerformanceRating</th>\n",
       "      <th>StockOptionLevel</th>\n",
       "      <th>TrainingTimesLastYear</th>\n",
       "      <th>WorkLifeBalance</th>\n",
       "      <th>YearsAtCompany</th>\n",
       "      <th>YearsSinceLastPromotion</th>\n",
       "      <th>OverTime</th>\n",
       "      <th>Attrition</th>\n",
       "    </tr>\n",
       "  </thead>\n",
       "  <tbody>\n",
       "    <tr>\n",
       "      <th>0</th>\n",
       "      <td>41</td>\n",
       "      <td>Travel_Rarely</td>\n",
       "      <td>5993</td>\n",
       "      <td>4</td>\n",
       "      <td>17979</td>\n",
       "      <td>Sales</td>\n",
       "      <td>1</td>\n",
       "      <td>2</td>\n",
       "      <td>Life Sciences</td>\n",
       "      <td>1</td>\n",
       "      <td>...</td>\n",
       "      <td>Sales Executive</td>\n",
       "      <td>Single</td>\n",
       "      <td>3</td>\n",
       "      <td>0</td>\n",
       "      <td>0</td>\n",
       "      <td>1</td>\n",
       "      <td>6</td>\n",
       "      <td>0</td>\n",
       "      <td>Yes</td>\n",
       "      <td>Yes</td>\n",
       "    </tr>\n",
       "    <tr>\n",
       "      <th>1</th>\n",
       "      <td>49</td>\n",
       "      <td>Travel_Frequently</td>\n",
       "      <td>5130</td>\n",
       "      <td>2</td>\n",
       "      <td>20520</td>\n",
       "      <td>Research &amp; Development</td>\n",
       "      <td>8</td>\n",
       "      <td>1</td>\n",
       "      <td>Life Sciences</td>\n",
       "      <td>1</td>\n",
       "      <td>...</td>\n",
       "      <td>Research Scientist</td>\n",
       "      <td>Married</td>\n",
       "      <td>4</td>\n",
       "      <td>1</td>\n",
       "      <td>3</td>\n",
       "      <td>3</td>\n",
       "      <td>10</td>\n",
       "      <td>1</td>\n",
       "      <td>No</td>\n",
       "      <td>No</td>\n",
       "    </tr>\n",
       "    <tr>\n",
       "      <th>2</th>\n",
       "      <td>37</td>\n",
       "      <td>Travel_Rarely</td>\n",
       "      <td>2090</td>\n",
       "      <td>3</td>\n",
       "      <td>6270</td>\n",
       "      <td>Research &amp; Development</td>\n",
       "      <td>2</td>\n",
       "      <td>2</td>\n",
       "      <td>Other</td>\n",
       "      <td>1</td>\n",
       "      <td>...</td>\n",
       "      <td>Laboratory Technician</td>\n",
       "      <td>Single</td>\n",
       "      <td>3</td>\n",
       "      <td>0</td>\n",
       "      <td>3</td>\n",
       "      <td>3</td>\n",
       "      <td>0</td>\n",
       "      <td>0</td>\n",
       "      <td>Yes</td>\n",
       "      <td>Yes</td>\n",
       "    </tr>\n",
       "    <tr>\n",
       "      <th>3</th>\n",
       "      <td>33</td>\n",
       "      <td>Travel_Frequently</td>\n",
       "      <td>2909</td>\n",
       "      <td>3</td>\n",
       "      <td>8727</td>\n",
       "      <td>Research &amp; Development</td>\n",
       "      <td>3</td>\n",
       "      <td>4</td>\n",
       "      <td>Life Sciences</td>\n",
       "      <td>1</td>\n",
       "      <td>...</td>\n",
       "      <td>Research Scientist</td>\n",
       "      <td>Married</td>\n",
       "      <td>3</td>\n",
       "      <td>0</td>\n",
       "      <td>3</td>\n",
       "      <td>3</td>\n",
       "      <td>8</td>\n",
       "      <td>3</td>\n",
       "      <td>Yes</td>\n",
       "      <td>No</td>\n",
       "    </tr>\n",
       "    <tr>\n",
       "      <th>4</th>\n",
       "      <td>27</td>\n",
       "      <td>Travel_Rarely</td>\n",
       "      <td>3468</td>\n",
       "      <td>2</td>\n",
       "      <td>10404</td>\n",
       "      <td>Research &amp; Development</td>\n",
       "      <td>2</td>\n",
       "      <td>1</td>\n",
       "      <td>Medical</td>\n",
       "      <td>1</td>\n",
       "      <td>...</td>\n",
       "      <td>Laboratory Technician</td>\n",
       "      <td>Married</td>\n",
       "      <td>3</td>\n",
       "      <td>1</td>\n",
       "      <td>3</td>\n",
       "      <td>3</td>\n",
       "      <td>2</td>\n",
       "      <td>2</td>\n",
       "      <td>No</td>\n",
       "      <td>No</td>\n",
       "    </tr>\n",
       "  </tbody>\n",
       "</table>\n",
       "<p>5 rows × 24 columns</p>\n",
       "</div>"
      ],
      "text/plain": [
       "   Age     BusinessTravel  MonthlyIncome  JobSatisfaction  Bonus  \\\n",
       "0   41      Travel_Rarely           5993                4  17979   \n",
       "1   49  Travel_Frequently           5130                2  20520   \n",
       "2   37      Travel_Rarely           2090                3   6270   \n",
       "3   33  Travel_Frequently           2909                3   8727   \n",
       "4   27      Travel_Rarely           3468                2  10404   \n",
       "\n",
       "               Department  DistanceFromHome  Education EducationField  \\\n",
       "0                   Sales                 1          2  Life Sciences   \n",
       "1  Research & Development                 8          1  Life Sciences   \n",
       "2  Research & Development                 2          2          Other   \n",
       "3  Research & Development                 3          4  Life Sciences   \n",
       "4  Research & Development                 2          1        Medical   \n",
       "\n",
       "   EmployeeCount  ...                JobRole  MaritalStatus PerformanceRating  \\\n",
       "0              1  ...        Sales Executive         Single                 3   \n",
       "1              1  ...     Research Scientist        Married                 4   \n",
       "2              1  ...  Laboratory Technician         Single                 3   \n",
       "3              1  ...     Research Scientist        Married                 3   \n",
       "4              1  ...  Laboratory Technician        Married                 3   \n",
       "\n",
       "   StockOptionLevel TrainingTimesLastYear WorkLifeBalance  YearsAtCompany  \\\n",
       "0                 0                     0               1               6   \n",
       "1                 1                     3               3              10   \n",
       "2                 0                     3               3               0   \n",
       "3                 0                     3               3               8   \n",
       "4                 1                     3               3               2   \n",
       "\n",
       "   YearsSinceLastPromotion  OverTime  Attrition  \n",
       "0                        0       Yes        Yes  \n",
       "1                        1        No         No  \n",
       "2                        0       Yes        Yes  \n",
       "3                        3       Yes         No  \n",
       "4                        2        No         No  \n",
       "\n",
       "[5 rows x 24 columns]"
      ]
     },
     "execution_count": 19,
     "metadata": {},
     "output_type": "execute_result"
    }
   ],
   "source": [
    "#2) Import dataset (exam_dataset.csv)\n",
    "\n",
    "data = pd.read_csv(r\"C:\\Users\\meorh\\Desktop\\Exam\\exam_dataset.csv\")\n",
    "data.head()"
   ]
  },
  {
   "cell_type": "code",
   "execution_count": 20,
   "id": "0aaae636",
   "metadata": {},
   "outputs": [
    {
     "name": "stdout",
     "output_type": "stream",
     "text": [
      "<class 'pandas.core.frame.DataFrame'>\n",
      "RangeIndex: 1470 entries, 0 to 1469\n",
      "Data columns (total 24 columns):\n",
      " #   Column                   Non-Null Count  Dtype \n",
      "---  ------                   --------------  ----- \n",
      " 0   Age                      1470 non-null   int64 \n",
      " 1   BusinessTravel           1470 non-null   object\n",
      " 2   MonthlyIncome            1470 non-null   int64 \n",
      " 3   JobSatisfaction          1470 non-null   int64 \n",
      " 4   Bonus                    1470 non-null   int64 \n",
      " 5   Department               1470 non-null   object\n",
      " 6   DistanceFromHome         1470 non-null   int64 \n",
      " 7   Education                1470 non-null   int64 \n",
      " 8   EducationField           1470 non-null   object\n",
      " 9   EmployeeCount            1470 non-null   int64 \n",
      " 10  EmployeeNumber           1470 non-null   int64 \n",
      " 11  EnvironmentSatisfaction  1470 non-null   int64 \n",
      " 12  Gender                   1470 non-null   object\n",
      " 13  JobLevel                 1470 non-null   int64 \n",
      " 14  JobRole                  1470 non-null   object\n",
      " 15  MaritalStatus            1470 non-null   object\n",
      " 16  PerformanceRating        1470 non-null   int64 \n",
      " 17  StockOptionLevel         1470 non-null   int64 \n",
      " 18  TrainingTimesLastYear    1470 non-null   int64 \n",
      " 19  WorkLifeBalance          1470 non-null   int64 \n",
      " 20  YearsAtCompany           1470 non-null   int64 \n",
      " 21  YearsSinceLastPromotion  1470 non-null   int64 \n",
      " 22  OverTime                 1470 non-null   object\n",
      " 23  Attrition                1470 non-null   object\n",
      "dtypes: int64(16), object(8)\n",
      "memory usage: 275.8+ KB\n"
     ]
    }
   ],
   "source": [
    "data.info()"
   ]
  },
  {
   "cell_type": "code",
   "execution_count": 21,
   "id": "03293eaf",
   "metadata": {},
   "outputs": [
    {
     "data": {
      "text/plain": [
       "(array([[41, 'Travel_Rarely', 5993, 4],\n",
       "        [49, 'Travel_Frequently', 5130, 2],\n",
       "        [37, 'Travel_Rarely', 2090, 3],\n",
       "        ...,\n",
       "        [27, 'Travel_Rarely', 6142, 2],\n",
       "        [49, 'Travel_Frequently', 5390, 2],\n",
       "        [34, 'Travel_Rarely', 4404, 3]], dtype=object),\n",
       " array(['Yes', 'No', 'Yes', ..., 'No', 'No', 'No'], dtype=object))"
      ]
     },
     "execution_count": 21,
     "metadata": {},
     "output_type": "execute_result"
    }
   ],
   "source": [
    "#3) Allocate the relevant attributes as input and output\n",
    "\n",
    "x = data.iloc[:,[0,1,2,3]].values\n",
    "y = data.iloc[:,23].values\n",
    "\n",
    "x,y"
   ]
  },
  {
   "cell_type": "code",
   "execution_count": 22,
   "id": "df3886e1",
   "metadata": {},
   "outputs": [],
   "source": [
    "#4) Use LabelEncoder to encode categorical data\n",
    "\n",
    "from sklearn.preprocessing import LabelEncoder\n",
    "\n",
    "labelencoder_x = LabelEncoder()\n",
    "x[:,1] = labelencoder_x.fit_transform(x[:,1])\n",
    "\n",
    "labelencoder_y = LabelEncoder()\n",
    "y = labelencoder_y.fit_transform(y)"
   ]
  },
  {
   "cell_type": "code",
   "execution_count": 23,
   "id": "7e3dd25d",
   "metadata": {},
   "outputs": [
    {
     "data": {
      "text/plain": [
       "(array([[41, 2, 5993, 4],\n",
       "        [49, 1, 5130, 2],\n",
       "        [37, 2, 2090, 3],\n",
       "        ...,\n",
       "        [27, 2, 6142, 2],\n",
       "        [49, 1, 5390, 2],\n",
       "        [34, 2, 4404, 3]], dtype=object),\n",
       " array([1, 0, 1, ..., 0, 0, 0]))"
      ]
     },
     "execution_count": 23,
     "metadata": {},
     "output_type": "execute_result"
    }
   ],
   "source": [
    "x,y"
   ]
  },
  {
   "cell_type": "code",
   "execution_count": 24,
   "id": "26a080ea",
   "metadata": {},
   "outputs": [],
   "source": [
    "#5) Split your data into training and test sets with the appropriate proportions\n",
    "\n",
    "from sklearn.model_selection import train_test_split\n",
    "\n",
    "x_train, x_test, y_train, y_test = train_test_split(x,y, test_size=0.2, random_state=0)"
   ]
  },
  {
   "cell_type": "code",
   "execution_count": 25,
   "id": "76f3fa3e",
   "metadata": {},
   "outputs": [],
   "source": [
    "#6) Normalized your data using StandardScaler\n",
    "\n",
    "from sklearn.preprocessing import StandardScaler\n",
    "\n",
    "scaler = StandardScaler()\n",
    "x_train = scaler.fit_transform(x_train)\n",
    "x_test = scaler.transform(x_test)"
   ]
  },
  {
   "cell_type": "code",
   "execution_count": 26,
   "id": "3f0c883d",
   "metadata": {},
   "outputs": [],
   "source": [
    "#7) Fit the and predict results using the Classifier\n",
    "\n",
    "from sklearn.ensemble import RandomForestClassifier\n",
    "\n",
    "classifier = RandomForestClassifier(n_estimators=50, criterion='entropy', random_state=0)\n",
    "classifier.fit(x_train, y_train)\n",
    "\n",
    "prediction = classifier.predict(x_test)"
   ]
  },
  {
   "cell_type": "code",
   "execution_count": 27,
   "id": "f3d98c7e",
   "metadata": {},
   "outputs": [
    {
     "data": {
      "text/plain": [
       "(array([0, 0, 1, 0, 1, 0, 1, 0, 0, 1, 0, 1, 0, 1, 0, 0, 0, 1, 0, 0, 0, 0,\n",
       "        0, 0, 0, 0, 0, 0, 0, 0, 0, 0, 0, 1, 0, 0, 0, 0, 1, 0, 0, 0, 0, 0,\n",
       "        0, 1, 0, 0, 1, 1, 0, 1, 0, 0, 1, 0, 0, 1, 0, 0, 0, 0, 0, 0, 0, 0,\n",
       "        1, 1, 0, 1, 0, 0, 0, 0, 0, 0, 0, 0, 1, 0, 0, 0, 0, 0, 0, 0, 0, 0,\n",
       "        0, 0, 0, 0, 0, 0, 0, 0, 0, 0, 0, 0, 1, 1, 0, 0, 0, 0, 0, 0, 0, 0,\n",
       "        0, 0, 0, 0, 0, 0, 0, 0, 0, 0, 0, 0, 0, 1, 0, 0, 0, 0, 0, 0, 0, 1,\n",
       "        1, 0, 0, 0, 1, 0, 0, 0, 0, 0, 0, 0, 0, 1, 0, 0, 1, 0, 0, 0, 0, 1,\n",
       "        0, 0, 0, 0, 0, 0, 1, 0, 0, 1, 0, 0, 0, 0, 0, 0, 0, 1, 0, 0, 1, 0,\n",
       "        0, 0, 0, 0, 0, 0, 0, 1, 0, 0, 0, 0, 1, 0, 0, 1, 0, 0, 0, 0, 0, 0,\n",
       "        1, 0, 0, 0, 1, 0, 0, 0, 0, 0, 0, 0, 0, 0, 0, 1, 1, 0, 0, 0, 0, 0,\n",
       "        0, 0, 0, 0, 0, 0, 0, 0, 1, 0, 0, 0, 0, 0, 0, 0, 0, 0, 0, 0, 1, 0,\n",
       "        0, 0, 0, 0, 0, 0, 0, 0, 0, 0, 1, 0, 0, 0, 0, 1, 0, 1, 0, 0, 0, 0,\n",
       "        0, 0, 0, 1, 1, 0, 0, 0, 0, 0, 0, 0, 0, 0, 0, 0, 1, 0, 0, 0, 0, 0,\n",
       "        0, 1, 0, 0, 0, 1, 0, 0]),\n",
       " array([0, 0, 0, 0, 0, 1, 0, 0, 0, 0, 0, 0, 0, 0, 0, 0, 0, 0, 0, 1, 1, 0,\n",
       "        0, 0, 0, 0, 0, 0, 1, 0, 0, 0, 0, 0, 0, 0, 0, 0, 0, 0, 0, 0, 0, 0,\n",
       "        0, 1, 0, 0, 1, 1, 0, 0, 0, 0, 0, 0, 0, 0, 0, 0, 0, 0, 0, 0, 0, 0,\n",
       "        0, 0, 0, 0, 0, 0, 0, 0, 0, 1, 0, 0, 0, 0, 0, 0, 0, 1, 0, 0, 0, 1,\n",
       "        0, 0, 0, 0, 0, 0, 0, 0, 0, 0, 0, 0, 0, 0, 0, 0, 0, 0, 0, 0, 0, 0,\n",
       "        0, 0, 0, 0, 0, 0, 0, 0, 0, 0, 0, 0, 0, 0, 1, 0, 0, 0, 0, 0, 0, 1,\n",
       "        0, 0, 0, 0, 0, 0, 0, 0, 0, 0, 0, 0, 0, 0, 0, 0, 0, 0, 0, 0, 1, 0,\n",
       "        0, 0, 0, 0, 0, 1, 0, 0, 0, 0, 0, 0, 0, 0, 0, 0, 0, 0, 0, 0, 0, 0,\n",
       "        0, 0, 0, 0, 0, 0, 0, 0, 0, 0, 0, 0, 0, 1, 0, 0, 0, 0, 0, 0, 0, 0,\n",
       "        0, 0, 0, 0, 0, 0, 0, 0, 0, 0, 0, 0, 0, 0, 0, 0, 0, 0, 0, 0, 0, 1,\n",
       "        0, 0, 0, 0, 0, 0, 0, 0, 1, 0, 0, 0, 0, 0, 0, 0, 0, 0, 0, 0, 0, 0,\n",
       "        0, 0, 0, 0, 0, 0, 0, 0, 0, 0, 0, 0, 0, 0, 0, 1, 0, 0, 0, 0, 0, 0,\n",
       "        0, 0, 0, 1, 0, 0, 0, 0, 0, 0, 0, 0, 0, 0, 0, 0, 0, 0, 0, 0, 0, 0,\n",
       "        0, 0, 0, 0, 0, 0, 0, 0]))"
      ]
     },
     "execution_count": 27,
     "metadata": {},
     "output_type": "execute_result"
    }
   ],
   "source": [
    "y_test, prediction"
   ]
  },
  {
   "cell_type": "code",
   "execution_count": 28,
   "id": "5a305adb",
   "metadata": {},
   "outputs": [
    {
     "name": "stdout",
     "output_type": "stream",
     "text": [
      "[[233  12]\n",
      " [ 42   7]]\n"
     ]
    }
   ],
   "source": [
    "#8) Evaluate your results using confusion matrix and calculate the prediction accuracy\n",
    "\n",
    "from sklearn.metrics import confusion_matrix\n",
    "\n",
    "cm = confusion_matrix(y_test, prediction)\n",
    "print(cm)"
   ]
  },
  {
   "cell_type": "code",
   "execution_count": 29,
   "id": "88961f41",
   "metadata": {},
   "outputs": [
    {
     "name": "stdout",
     "output_type": "stream",
     "text": [
      "0.8163265306122449\n"
     ]
    }
   ],
   "source": [
    "#8) Evaluate your results using confusion matrix and calculate the prediction accuracy\n",
    "\n",
    "from sklearn.metrics import accuracy_score\n",
    "\n",
    "accuracy = accuracy_score(y_test, prediction)\n",
    "print(accuracy)"
   ]
  },
  {
   "cell_type": "code",
   "execution_count": 30,
   "id": "dbb3f919",
   "metadata": {},
   "outputs": [
    {
     "name": "stdout",
     "output_type": "stream",
     "text": [
      "              precision    recall  f1-score   support\n",
      "\n",
      "           0       0.85      0.95      0.90       245\n",
      "           1       0.37      0.14      0.21        49\n",
      "\n",
      "    accuracy                           0.82       294\n",
      "   macro avg       0.61      0.55      0.55       294\n",
      "weighted avg       0.77      0.82      0.78       294\n",
      "\n"
     ]
    }
   ],
   "source": [
    "#9) Discuss your results and findings\n",
    "\n",
    "from sklearn.metrics import classification_report\n",
    "\n",
    "report = classification_report(y_test, prediction)\n",
    "print(report)\n"
   ]
  },
  {
   "cell_type": "raw",
   "id": "5dfc72de",
   "metadata": {},
   "source": [
    "Based on the accuracy value of 0.8163265306122449, column ‘Age’, ‘BusinessTravel’, ‘MonthlyIncome’ and ‘JobSatisfaction’ is quite good to measure column 'Attrition value'."
   ]
  },
  {
   "cell_type": "raw",
   "id": "00e62ed1",
   "metadata": {},
   "source": [
    "C)Clustering comparison between K-Means and DBSCAN\n",
    "1) Perform K-Means clustering (use WCSS to help find best K value) on the given\n",
    "dataset, display clustering results with graphical visualization, provide any necessary\n",
    "comments and discussions.\n",
    "2) Perform DBSCAN clustering (use knee locator to help find optimal parameter) on the\n",
    "given dataset, display clustering results with graphical visualization, provide any\n",
    "necessary comments and discussions.\n",
    "3) Conduct comparison studies on the two techniques (K-Means and DBSCAN), with\n",
    "graphical visualization comparisons, discuss your results and decide on whether:\n",
    "a. K-Means is the better clustering technique for this dataset or,\n",
    "b. DBSCAN is the better clustering technique for this dataset, or\n",
    "c. There’s no clear distinction between the two techniques for this dataset"
   ]
  },
  {
   "cell_type": "code",
   "execution_count": 31,
   "id": "8c629d80",
   "metadata": {},
   "outputs": [],
   "source": [
    "#1) Perform K-Means clustering (use WCSS to help find best K value) on the given dataset, display clustering results with graphical visualization, provide any necessary comments and discussions.\n",
    "\n",
    "import pandas as pd\n",
    "import numpy as np\n",
    "import matplotlib.pyplot\n",
    "import seaborn as sns\n"
   ]
  },
  {
   "cell_type": "code",
   "execution_count": 32,
   "id": "33636d37",
   "metadata": {},
   "outputs": [
    {
     "data": {
      "text/html": [
       "<div>\n",
       "<style scoped>\n",
       "    .dataframe tbody tr th:only-of-type {\n",
       "        vertical-align: middle;\n",
       "    }\n",
       "\n",
       "    .dataframe tbody tr th {\n",
       "        vertical-align: top;\n",
       "    }\n",
       "\n",
       "    .dataframe thead th {\n",
       "        text-align: right;\n",
       "    }\n",
       "</style>\n",
       "<table border=\"1\" class=\"dataframe\">\n",
       "  <thead>\n",
       "    <tr style=\"text-align: right;\">\n",
       "      <th></th>\n",
       "      <th>Unnamed: 0</th>\n",
       "      <th>A</th>\n",
       "      <th>B</th>\n",
       "    </tr>\n",
       "  </thead>\n",
       "  <tbody>\n",
       "    <tr>\n",
       "      <th>0</th>\n",
       "      <td>0</td>\n",
       "      <td>0.329241</td>\n",
       "      <td>0.841783</td>\n",
       "    </tr>\n",
       "    <tr>\n",
       "      <th>1</th>\n",
       "      <td>1</td>\n",
       "      <td>1.697407</td>\n",
       "      <td>-0.236075</td>\n",
       "    </tr>\n",
       "    <tr>\n",
       "      <th>2</th>\n",
       "      <td>2</td>\n",
       "      <td>-0.831460</td>\n",
       "      <td>0.584743</td>\n",
       "    </tr>\n",
       "    <tr>\n",
       "      <th>3</th>\n",
       "      <td>3</td>\n",
       "      <td>1.825271</td>\n",
       "      <td>-0.297894</td>\n",
       "    </tr>\n",
       "    <tr>\n",
       "      <th>4</th>\n",
       "      <td>4</td>\n",
       "      <td>1.236577</td>\n",
       "      <td>0.121528</td>\n",
       "    </tr>\n",
       "  </tbody>\n",
       "</table>\n",
       "</div>"
      ],
      "text/plain": [
       "   Unnamed: 0         A         B\n",
       "0           0  0.329241  0.841783\n",
       "1           1  1.697407 -0.236075\n",
       "2           2 -0.831460  0.584743\n",
       "3           3  1.825271 -0.297894\n",
       "4           4  1.236577  0.121528"
      ]
     },
     "execution_count": 32,
     "metadata": {},
     "output_type": "execute_result"
    }
   ],
   "source": [
    "#importing dataset\n",
    "data = pd.read_csv(r\"C:\\Users\\meorh\\Desktop\\Exam\\clustering.csv\")\n",
    "data.head()"
   ]
  },
  {
   "cell_type": "code",
   "execution_count": 33,
   "id": "db724ca2",
   "metadata": {},
   "outputs": [],
   "source": [
    "#allocating input\n",
    "x = data.iloc[:,[1,2]].values"
   ]
  },
  {
   "cell_type": "code",
   "execution_count": 34,
   "id": "34dd8d16",
   "metadata": {},
   "outputs": [
    {
     "data": {
      "text/plain": [
       "array([[-0.19367631,  1.19707246],\n",
       "       [ 1.35934632, -0.94233962],\n",
       "       [-1.51120366,  0.68688054],\n",
       "       [ 1.50448679, -1.06504283],\n",
       "       [ 0.83625314, -0.23254316],\n",
       "       [ 1.71217898, -0.05560362],\n",
       "       [-0.62854007, -0.04333449],\n",
       "       [-1.48655212,  0.69062538],\n",
       "       [ 0.54335099, -1.53549856],\n",
       "       [-0.1885917 , -1.15412242],\n",
       "       [-0.57233973,  0.08530069],\n",
       "       [ 1.70365043, -0.84803885],\n",
       "       [ 0.42210233, -0.44388723],\n",
       "       [-1.62947258,  0.38593899],\n",
       "       [-0.55262164, -0.25998898],\n",
       "       [-1.50496388,  0.62031921],\n",
       "       [ 1.10513637, -1.01082203],\n",
       "       [ 0.38189332, -1.64868256],\n",
       "       [-0.57425797,  1.48875469],\n",
       "       [ 1.69212349, -0.13186847],\n",
       "       [ 0.64464852, -0.2842848 ],\n",
       "       [-0.17188414, -1.00013217],\n",
       "       [-0.40308758,  1.37018963],\n",
       "       [ 0.47195018,  0.6674501 ],\n",
       "       [-0.04455545,  1.28442231],\n",
       "       [ 1.00641662, -1.62400292],\n",
       "       [ 0.41258526,  0.85328116],\n",
       "       [ 1.00260241, -1.63401717],\n",
       "       [-1.77578325,  0.02797682],\n",
       "       [ 0.14046294, -1.43902102],\n",
       "       [-0.77072388, -0.06999854],\n",
       "       [-1.60386009,  0.19275344],\n",
       "       [ 0.06792247, -1.13251967],\n",
       "       [ 0.15808104,  0.99907498],\n",
       "       [ 0.5918192 ,  0.43882649],\n",
       "       [ 1.79951945, -0.05662317],\n",
       "       [-1.74358217, -0.34597621],\n",
       "       [ 0.09472405, -1.29480856],\n",
       "       [-0.47510987,  1.07487746],\n",
       "       [-0.38136245,  1.6657932 ],\n",
       "       [ 0.06522098, -1.43342123],\n",
       "       [-0.03857433, -1.16641556],\n",
       "       [-0.16597062,  1.189908  ],\n",
       "       [ 1.20360375, -1.36750747],\n",
       "       [ 1.0732983 , -0.97594391],\n",
       "       [-0.35115433,  1.54616869],\n",
       "       [ 0.10305029,  1.04602726],\n",
       "       [-1.38351072,  0.76541859],\n",
       "       [ 0.17613919, -1.29609571],\n",
       "       [ 0.31017327,  0.63643759],\n",
       "       [ 1.7472377 , -0.40678156],\n",
       "       [-1.74163436,  0.20972692],\n",
       "       [ 0.57790187, -1.19736609],\n",
       "       [-1.48900544,  0.57690855],\n",
       "       [ 0.26169321,  0.54631588],\n",
       "       [-0.12248317, -1.08681148],\n",
       "       [-0.03213051,  1.2911978 ],\n",
       "       [ 1.67184556, -0.08121523],\n",
       "       [-0.53553067,  1.65924761],\n",
       "       [ 0.55769055,  0.42256247],\n",
       "       [ 1.5615795 , -0.7852702 ],\n",
       "       [ 0.20215809,  0.72963099],\n",
       "       [ 1.61257642,  0.00941248],\n",
       "       [-0.27668152, -0.49653308],\n",
       "       [ 0.37231261, -0.24188354],\n",
       "       [ 1.60851364, -0.54033105],\n",
       "       [ 1.75501302, -0.04436057],\n",
       "       [-1.33577938,  0.73374176],\n",
       "       [ 1.56165535, -1.11191577],\n",
       "       [ 0.60191189,  0.12201247],\n",
       "       [ 0.47411543,  0.33365726],\n",
       "       [ 0.14759729, -1.42036925],\n",
       "       [-0.29500422, -0.03249118],\n",
       "       [ 0.25455501, -1.66088578],\n",
       "       [-1.262038  ,  1.19011598],\n",
       "       [-1.12971929,  1.29556783],\n",
       "       [-1.79286216, -0.09227981],\n",
       "       [ 1.42405653, -0.53242634],\n",
       "       [-0.66811575,  1.4945073 ],\n",
       "       [ 1.82849484,  0.27971421],\n",
       "       [ 1.09850151, -1.25822568],\n",
       "       [-1.28405716,  0.81875931],\n",
       "       [-0.9267942 ,  1.33770908],\n",
       "       [-1.41225387,  0.58593108],\n",
       "       [ 0.43475579, -0.66017839],\n",
       "       [-0.03291934, -1.36325655],\n",
       "       [-0.19266819,  1.4092657 ],\n",
       "       [ 1.53279677,  0.57282086],\n",
       "       [-0.50949316, -0.06034573],\n",
       "       [-0.60193361,  0.43020802],\n",
       "       [-0.26576888,  1.42841156],\n",
       "       [ 0.73192467, -1.41081643],\n",
       "       [ 1.82840489,  0.15224212],\n",
       "       [ 0.2809764 ,  0.96935721],\n",
       "       [-1.72088488, -0.28542723],\n",
       "       [ 0.52330762, -1.21003467],\n",
       "       [ 1.83468027, -0.44822378],\n",
       "       [ 1.314881  , -0.56802268],\n",
       "       [-1.66209104,  0.35636128],\n",
       "       [-0.63424472,  1.21808607],\n",
       "       [ 0.93084606, -1.40424906],\n",
       "       [ 0.23410303,  0.68678045],\n",
       "       [ 0.86567058, -1.5477206 ],\n",
       "       [ 0.77505506, -1.26787726],\n",
       "       [-1.79618431, -0.42671216],\n",
       "       [-0.92977333,  1.14810566],\n",
       "       [ 0.68783268, -0.5075786 ],\n",
       "       [ 0.25684998, -1.33574746],\n",
       "       [-0.36334458,  1.73227863],\n",
       "       [ 1.53608765, -0.83686301],\n",
       "       [ 0.10411161, -1.04890313],\n",
       "       [-0.21126217,  1.35994922],\n",
       "       [-0.4043569 ,  1.37117838],\n",
       "       [ 0.24507698,  1.10040827],\n",
       "       [ 0.30398076, -1.30201952],\n",
       "       [ 0.3362653 ,  1.33522165],\n",
       "       [-0.61944683,  0.03193701],\n",
       "       [-0.46098453,  0.56321488],\n",
       "       [-0.10946508, -1.17105631],\n",
       "       [ 1.24801402, -1.07040373],\n",
       "       [-0.69955382, -0.02614578],\n",
       "       [-1.74463412,  0.23139312],\n",
       "       [-0.39443825,  1.76467142],\n",
       "       [-0.51812906, -0.8948249 ],\n",
       "       [-1.42711059,  0.87132496],\n",
       "       [ 1.7544594 ,  0.56525096],\n",
       "       [-0.15820378, -0.70435453],\n",
       "       [-0.42045782, -0.9372088 ],\n",
       "       [-1.33695195,  1.71943321],\n",
       "       [ 0.03012863,  1.56324384],\n",
       "       [ 0.25671046, -1.17945547],\n",
       "       [ 1.5642675 , -0.98953903],\n",
       "       [ 0.51751434, -0.28969062],\n",
       "       [ 0.72259686, -1.66502852],\n",
       "       [-0.54391448,  0.58996774],\n",
       "       [ 0.89785103, -1.01254764],\n",
       "       [-0.63503605,  1.24586389],\n",
       "       [ 0.91968569, -1.3777468 ],\n",
       "       [ 0.90726208, -1.28503989],\n",
       "       [-0.33971656, -0.79927735],\n",
       "       [-0.95394401,  1.26597389],\n",
       "       [ 1.68563013, -0.41531267],\n",
       "       [ 0.31451382, -1.30629283],\n",
       "       [-0.4700258 ,  1.64936299],\n",
       "       [ 0.61369022, -0.49964186],\n",
       "       [ 0.38833491, -1.27413715],\n",
       "       [ 0.00201814, -1.14197994],\n",
       "       [ 1.61162204, -0.07929346],\n",
       "       [-0.79914855,  1.60711339],\n",
       "       [ 1.61648931, -0.14879744],\n",
       "       [-0.28273724,  1.12413693],\n",
       "       [-0.14216885, -1.02490089],\n",
       "       [ 1.24433128, -0.81887872],\n",
       "       [-0.38620936,  1.66726562],\n",
       "       [-1.22532631,  1.29233212],\n",
       "       [ 0.44531696,  0.46471596],\n",
       "       [-0.74504741,  1.59531413],\n",
       "       [-0.4569497 ,  1.48406937],\n",
       "       [-1.29883261,  1.34533705],\n",
       "       [ 0.38245435, -1.16390782],\n",
       "       [ 0.34510878,  0.57997883],\n",
       "       [ 0.08237803,  1.11416533],\n",
       "       [ 0.93760658, -1.22306735],\n",
       "       [ 1.16651995, -1.06020357],\n",
       "       [-0.84055223,  1.64059509],\n",
       "       [-0.86961945,  1.16660696],\n",
       "       [ 1.17913898, -0.76476596],\n",
       "       [ 1.55316962,  0.1298981 ],\n",
       "       [-1.45579441,  0.4593996 ],\n",
       "       [-0.35395338, -0.33627981],\n",
       "       [ 0.42196061, -0.46172207],\n",
       "       [-0.44529019, -0.98342201],\n",
       "       [ 1.35782059, -0.79955299],\n",
       "       [ 0.63863183,  0.22850505],\n",
       "       [-1.28238685,  1.21635217],\n",
       "       [-1.45720122,  1.08700534],\n",
       "       [-0.45561127, -0.28518451],\n",
       "       [ 0.52602976, -1.31808183],\n",
       "       [ 1.56803518,  0.07970716],\n",
       "       [-1.16774043,  1.55925867],\n",
       "       [ 0.17101923,  1.300702  ],\n",
       "       [-0.25581562, -0.78403655],\n",
       "       [ 0.00612814,  1.38362092],\n",
       "       [ 0.60712586,  0.01758983],\n",
       "       [-0.5626133 ,  0.00457586],\n",
       "       [ 0.00201533, -1.06732082],\n",
       "       [-0.9412958 ,  1.30222859],\n",
       "       [-1.03070738,  1.56873984],\n",
       "       [-0.25861567, -0.98460152],\n",
       "       [ 0.21110295,  0.76245271],\n",
       "       [ 0.08503157, -1.18491829],\n",
       "       [-0.39077135,  1.7226643 ],\n",
       "       [-1.53184221,  0.56028519],\n",
       "       [-1.547237  ,  0.1143973 ],\n",
       "       [-1.46499486, -0.05173428],\n",
       "       [ 0.5895073 , -1.42893958],\n",
       "       [-1.32141928,  0.74663487],\n",
       "       [-1.16480142,  1.29153694],\n",
       "       [-0.54517959, -0.21567658],\n",
       "       [ 1.23918814, -1.0864646 ],\n",
       "       [-0.77869731,  1.20625553],\n",
       "       [-1.11259579,  1.3044358 ],\n",
       "       [ 1.05840809, -1.56475069],\n",
       "       [-1.10483008,  1.33514873],\n",
       "       [ 0.65193531, -0.21247671],\n",
       "       [-0.32724407, -0.66726066],\n",
       "       [ 0.53404503, -1.58694134],\n",
       "       [ 1.67941162, -0.47296823],\n",
       "       [-1.32334543,  0.56316141],\n",
       "       [ 0.76802274, -1.41344864],\n",
       "       [ 0.26653178,  0.2273098 ],\n",
       "       [-0.73206107,  1.32899158],\n",
       "       [-0.51302132, -0.3465829 ],\n",
       "       [-1.44131322,  0.80018881],\n",
       "       [ 1.23136359, -1.17536451],\n",
       "       [-1.44204561, -0.09416426],\n",
       "       [-0.22407157,  1.39887222],\n",
       "       [-1.49383416,  0.18147278],\n",
       "       [-0.71341691,  0.04382273],\n",
       "       [-1.70243597, -0.21444389],\n",
       "       [ 1.2807792 , -0.89919532],\n",
       "       [-0.41919151, -0.84744412],\n",
       "       [ 0.09943788,  1.55301576],\n",
       "       [-0.28837467, -0.31552567],\n",
       "       [-0.48085421, -0.5568526 ],\n",
       "       [-1.43402414,  0.74490522],\n",
       "       [-1.64868992, -0.5928372 ],\n",
       "       [ 0.03470026, -1.37554518],\n",
       "       [ 0.38585993, -1.65129052],\n",
       "       [ 0.88270035, -1.55267596],\n",
       "       [ 1.29206656, -0.84810823],\n",
       "       [ 0.39813273,  0.51398583],\n",
       "       [-0.41144853, -0.71487106],\n",
       "       [ 0.50072718, -0.12808598],\n",
       "       [ 0.53134497, -0.25330279],\n",
       "       [-0.11081476, -0.87735421],\n",
       "       [-0.24610423, -1.12076236],\n",
       "       [-1.26121627,  1.3762284 ],\n",
       "       [-1.12731422,  1.45503108],\n",
       "       [-0.92217835,  1.71755964],\n",
       "       [ 0.73755508, -1.36141886],\n",
       "       [-0.84267556,  1.75934982],\n",
       "       [ 1.93099153,  0.24788243],\n",
       "       [-1.14245354,  1.24994623],\n",
       "       [-1.748282  ,  0.66703768],\n",
       "       [ 1.77943731, -0.01260514],\n",
       "       [-0.20421006, -0.44388164],\n",
       "       [ 0.71797573,  0.16976417],\n",
       "       [ 0.8632482 , -1.53144381],\n",
       "       [-1.53390223, -0.32001251],\n",
       "       [ 1.41173027, -0.78423113],\n",
       "       [-1.81998608,  0.12223338],\n",
       "       [-0.65002923, -0.66285385],\n",
       "       [-1.78097343, -0.12456502],\n",
       "       [ 1.72427759,  0.03221282],\n",
       "       [-1.38943293,  0.64273524],\n",
       "       [ 1.21390253, -0.61812225],\n",
       "       [-0.59140947,  0.04257789],\n",
       "       [ 0.23958252,  0.9535646 ],\n",
       "       [ 1.75729223, -0.23324216],\n",
       "       [-1.74707067, -0.34675177],\n",
       "       [-1.82779921, -0.51068881],\n",
       "       [ 1.68710042,  0.3774761 ],\n",
       "       [-0.58875026,  0.61684293],\n",
       "       [ 1.02725812, -1.5287461 ],\n",
       "       [-0.29832803,  1.36790989],\n",
       "       [ 0.37078913,  0.39839244],\n",
       "       [ 0.61747277,  0.11911065],\n",
       "       [-0.55328597,  0.22107544],\n",
       "       [ 0.09809325, -1.14356788],\n",
       "       [ 0.42445282,  0.36119642],\n",
       "       [-0.38007269, -0.94040173],\n",
       "       [ 0.66716984,  0.3058358 ],\n",
       "       [ 1.76264298, -0.37453882],\n",
       "       [ 0.74480854, -1.23005082],\n",
       "       [-1.59579142,  0.29846316],\n",
       "       [-0.00495696,  1.2208933 ],\n",
       "       [-0.70193379,  1.34987655],\n",
       "       [ 1.06898311, -1.48055058],\n",
       "       [-0.0728789 ,  1.27338496],\n",
       "       [-1.04677039,  0.70345592],\n",
       "       [ 0.27355694,  1.05744484],\n",
       "       [-0.28099392,  1.21395035],\n",
       "       [ 0.71617936, -1.69968003],\n",
       "       [ 0.28361203,  0.65107434],\n",
       "       [-0.53228584,  0.23711499],\n",
       "       [-0.41341316, -0.34557826],\n",
       "       [ 0.29026951,  1.06853583],\n",
       "       [-0.620568  ,  0.35880452],\n",
       "       [-1.58680505,  0.08473025],\n",
       "       [-0.01818413, -1.41262296],\n",
       "       [-1.39317862,  0.86814676],\n",
       "       [-0.07761094,  1.20302664],\n",
       "       [ 1.32926457, -1.4136665 ],\n",
       "       [ 0.92473153, -1.43847443],\n",
       "       [ 1.35215624, -0.68329688],\n",
       "       [ 0.29314766, -1.53905118],\n",
       "       [ 0.43370526, -0.25442592],\n",
       "       [-0.37514515,  1.38146562],\n",
       "       [ 1.56354889, -0.48179178]])"
      ]
     },
     "execution_count": 34,
     "metadata": {},
     "output_type": "execute_result"
    }
   ],
   "source": [
    "#scaling data\n",
    "from sklearn.preprocessing import StandardScaler\n",
    "\n",
    "scaler = StandardScaler()\n",
    "x_scaled = scaler.fit_transform(x)\n",
    "x_scaled"
   ]
  },
  {
   "cell_type": "code",
   "execution_count": 35,
   "id": "c05cba9f",
   "metadata": {},
   "outputs": [
    {
     "name": "stderr",
     "output_type": "stream",
     "text": [
      "C:\\Users\\meorh\\anaconda3\\lib\\site-packages\\sklearn\\cluster\\_kmeans.py:1036: UserWarning: KMeans is known to have a memory leak on Windows with MKL, when there are less chunks than available threads. You can avoid it by setting the environment variable OMP_NUM_THREADS=2.\n",
      "  warnings.warn(\n"
     ]
    },
    {
     "data": {
      "image/png": "[encoded data removed]",
      "text/plain": [
       "<Figure size 432x288 with 1 Axes>"
      ]
     },
     "metadata": {
      "needs_background": "light"
     },
     "output_type": "display_data"
    }
   ],
   "source": [
    "#finding elbow method\n",
    "\n",
    "from sklearn.cluster import KMeans\n",
    "\n",
    "wcss = []\n",
    "\n",
    "for i in range(1,11):\n",
    "    kmeans = KMeans(n_clusters = i, init = 'k-means++', random_state=0)\n",
    "    kmeans.fit(x_scaled)\n",
    "    wcss.append(kmeans.inertia_)\n",
    "    \n",
    "plt.plot(range(1,11), wcss)\n",
    "plt.title(\"Elbow Method\")\n",
    "plt.xlabel(\"Number of clusters\")\n",
    "plt.ylabel(\"wCSS\")\n",
    "plt.show()"
   ]
  },
  {
   "cell_type": "code",
   "execution_count": 36,
   "id": "7b8d4db3",
   "metadata": {},
   "outputs": [
    {
     "data": {
      "text/plain": [
       "array([1, 0, 2, 0, 0, 0, 2, 2, 3, 3, 2, 0, 3, 2, 2, 2, 0, 3, 1, 0, 0, 3,\n",
       "       1, 1, 1, 3, 1, 3, 2, 3, 2, 2, 3, 1, 0, 0, 2, 3, 1, 1, 3, 3, 1, 3,\n",
       "       0, 1, 1, 2, 3, 1, 0, 2, 3, 2, 1, 3, 1, 0, 1, 0, 0, 1, 0, 3, 0, 0,\n",
       "       0, 2, 0, 0, 0, 3, 2, 3, 1, 1, 2, 0, 1, 0, 3, 2, 1, 2, 3, 3, 1, 0,\n",
       "       2, 2, 1, 3, 0, 1, 2, 3, 0, 0, 2, 1, 3, 1, 3, 3, 2, 1, 0, 3, 1, 0,\n",
       "       3, 1, 1, 1, 3, 1, 2, 1, 3, 0, 2, 2, 1, 3, 2, 0, 3, 3, 1, 1, 3, 0,\n",
       "       0, 3, 1, 3, 1, 3, 3, 3, 1, 0, 3, 1, 0, 3, 3, 0, 1, 0, 1, 3, 0, 1,\n",
       "       1, 0, 1, 1, 1, 3, 1, 1, 3, 0, 1, 1, 0, 0, 2, 2, 3, 3, 0, 0, 1, 2,\n",
       "       2, 3, 0, 1, 1, 3, 1, 0, 2, 3, 1, 1, 3, 1, 3, 1, 2, 2, 2, 3, 2, 1,\n",
       "       2, 0, 1, 1, 3, 1, 0, 3, 3, 0, 2, 3, 0, 1, 2, 2, 0, 2, 1, 2, 2, 2,\n",
       "       0, 3, 1, 2, 2, 2, 2, 3, 3, 3, 0, 1, 3, 0, 0, 3, 3, 1, 1, 1, 3, 1,\n",
       "       0, 1, 2, 0, 3, 0, 3, 2, 0, 2, 2, 2, 0, 2, 0, 2, 1, 0, 2, 2, 0, 1,\n",
       "       3, 1, 0, 0, 2, 3, 0, 3, 0, 0, 3, 2, 1, 1, 3, 1, 2, 1, 1, 3, 1, 2,\n",
       "       2, 1, 2, 2, 3, 2, 1, 3, 3, 0, 3, 0, 1, 0])"
      ]
     },
     "execution_count": 36,
     "metadata": {},
     "output_type": "execute_result"
    }
   ],
   "source": [
    "kmeans = KMeans(n_clusters = 4, init = 'k-means++', random_state=0)\n",
    "y_kmeans = kmeans.fit_predict(x_scaled)\n",
    "y_kmeans"
   ]
  },
  {
   "cell_type": "code",
   "execution_count": 37,
   "id": "e1772328",
   "metadata": {},
   "outputs": [
    {
     "name": "stderr",
     "output_type": "stream",
     "text": [
      "C:\\Users\\meorh\\anaconda3\\lib\\site-packages\\seaborn\\_decorators.py:36: FutureWarning: Pass the following variables as keyword args: x, y. From version 0.12, the only valid positional argument will be `data`, and passing other arguments without an explicit keyword will result in an error or misinterpretation.\n",
      "  warnings.warn(\n"
     ]
    },
    {
     "data": {
      "image/png": "[encoded data removed]",
      "text/plain": [
       "<Figure size 432x288 with 1 Axes>"
      ]
     },
     "metadata": {
      "needs_background": "light"
     },
     "output_type": "display_data"
    }
   ],
   "source": [
    "#visualizing clusters and centroids\n",
    "sns.scatterplot(x_scaled[:,0], x_scaled[:,1], hue = [\"cluster-{}\".format(x) for x in y_kmeans])\n",
    "plt.title(\"Clusters and Centroids\")\n",
    "plt.xlabel(\"X axis\")\n",
    "plt.ylabel(\"Y axis\")\n",
    "plt.legend()\n",
    "plt.show()"
   ]
  },
  {
   "cell_type": "code",
   "execution_count": 38,
   "id": "8ec66947",
   "metadata": {},
   "outputs": [
    {
     "data": {
      "image/png": "[encoded data removed]",
      "text/plain": [
       "<Figure size 432x288 with 1 Axes>"
      ]
     },
     "metadata": {
      "needs_background": "light"
     },
     "output_type": "display_data"
    }
   ],
   "source": [
    "#2) Perform DBSCAN clustering (use knee locator to help find optimal parameter) on the given dataset, display clustering results with graphical visualization, provide any necessary comments and discussions.\n",
    "#visualizing using DBSCAN\n",
    "from sklearn.cluster import DBSCAN\n",
    "from sklearn.datasets import make_blobs\n",
    "from sklearn.neighbors import NearestNeighbors\n",
    "from kneed import KneeLocator\n",
    "\n",
    "db = DBSCAN(eps=0.5, min_samples=10).fit(x_scaled)\n",
    "labels = db.labels_\n",
    "plt.scatter(x_scaled[:, 0], x_scaled[:, 1], c=labels, cmap=\"plasma\")\n",
    "plt.xlabel(\"Feature 0\")\n",
    "plt.ylabel(\"Feature 1\")\n",
    "plt.show()"
   ]
  },
  {
   "cell_type": "code",
   "execution_count": 39,
   "id": "a1e20544",
   "metadata": {},
   "outputs": [],
   "source": [
    "#defining neighbour\n",
    "nearest_neighbors = NearestNeighbors(n_neighbors=11)\n",
    "neighbors = nearest_neighbors.fit(x_scaled)\n",
    "distances, indices = neighbors.kneighbors(x_scaled)"
   ]
  },
  {
   "cell_type": "code",
   "execution_count": 40,
   "id": "5bdb7860",
   "metadata": {},
   "outputs": [
    {
     "data": {
      "image/png": "[encoded data removed]",
      "text/plain": [
       "<Figure size 432x288 with 1 Axes>"
      ]
     },
     "metadata": {
      "needs_background": "light"
     },
     "output_type": "display_data"
    }
   ],
   "source": [
    "#plotting knee value\n",
    "distances = np.sort(distances[:,10],axis=0)\n",
    "i = np.arange(len(distances))\n",
    "plt.plot(distances)\n",
    "plt.xlabel('Points')\n",
    "plt.ylabel('Distance')\n",
    "plt.show()"
   ]
  },
  {
   "cell_type": "code",
   "execution_count": 41,
   "id": "0c8522af",
   "metadata": {},
   "outputs": [],
   "source": [
    "#interpreting kneelocator\n",
    "knee = KneeLocator(i, distances, S=1, curve='convex',\n",
    "direction='increasing',interp_method='polynomial')"
   ]
  },
  {
   "cell_type": "code",
   "execution_count": 42,
   "id": "f3e0d33d",
   "metadata": {},
   "outputs": [
    {
     "data": {
      "image/png": "[encoded data removed]",
      "text/plain": [
       "<Figure size 432x432 with 1 Axes>"
      ]
     },
     "metadata": {
      "needs_background": "light"
     },
     "output_type": "display_data"
    },
    {
     "name": "stdout",
     "output_type": "stream",
     "text": [
      "0.34567786876134754\n"
     ]
    }
   ],
   "source": [
    "#finding real knee value\n",
    "knee.plot_knee()\n",
    "plt.xlabel('Points')\n",
    "plt.ylabel('Distance')\n",
    "plt.show()\n",
    "print(distances[knee.knee]) # \"just right far\""
   ]
  },
  {
   "cell_type": "code",
   "execution_count": 43,
   "id": "797d70bd",
   "metadata": {},
   "outputs": [
    {
     "name": "stderr",
     "output_type": "stream",
     "text": [
      "C:\\Users\\meorh\\anaconda3\\lib\\site-packages\\seaborn\\_decorators.py:36: FutureWarning: Pass the following variables as keyword args: x, y. From version 0.12, the only valid positional argument will be `data`, and passing other arguments without an explicit keyword will result in an error or misinterpretation.\n",
      "  warnings.warn(\n"
     ]
    },
    {
     "data": {
      "text/plain": [
       "<AxesSubplot:>"
      ]
     },
     "execution_count": 43,
     "metadata": {},
     "output_type": "execute_result"
    },
    {
     "data": {
      "image/png": "[encoded data removed]",
      "text/plain": [
       "<Figure size 360x360 with 1 Axes>"
      ]
     },
     "metadata": {
      "needs_background": "light"
     },
     "output_type": "display_data"
    }
   ],
   "source": [
    "#fine tuning dbscan using knee value\n",
    "db = DBSCAN(eps=distances[knee.knee], min_samples=10)\n",
    "db.fit(x_scaled)\n",
    "labels = db.labels_\n",
    "fig = plt.figure(figsize=(5,5))\n",
    "sns.scatterplot(x_scaled[:,0], x_scaled[:,1], hue=[\"cluster-{}\".format(x) for x in labels])"
   ]
  },
  {
   "cell_type": "raw",
   "id": "4017c9de",
   "metadata": {},
   "source": [
    "3) Conduct comparison studies on the two techniques (K-Means and DBSCAN), with graphical visualization comparisons, discuss your results and decide on whether:\n",
    "a. K-Means is the better clustering technique for this dataset or,\n",
    "b. DBSCAN is the better clustering technique for this dataset, or\n",
    "c. There’s no clear distinction between the two techniques for this dataset"
   ]
  },
  {
   "cell_type": "raw",
   "id": "de33bef4",
   "metadata": {},
   "source": [
    "...\n",
    "3) Conduct comparison studies on the two techniques (K-Means and DBSCAN)\n",
    "Discussion on DBSCAN vs KMeans\n",
    "\n",
    "Comparing between two techniques based on both graphs, clearly DBSCAN showed\n",
    "better clustering area. This is because the data is in arbitrary shape where DBSCAN relies on density of data points.\n",
    "This is a weakness of KMeans technique since KMeans only measures the\n",
    "radius of its centroid. KMeans also is bad when data \n",
    "..."
   ]
  },
  {
   "cell_type": "code",
   "execution_count": null,
   "id": "6d7ef3ec",
   "metadata": {},
   "outputs": [],
   "source": []
  }
 ],
 "metadata": {
  "kernelspec": {
   "display_name": "Python 3 (ipykernel)",
   "language": "python",
   "name": "python3"
  },
  "language_info": {
   "codemirror_mode": {
    "name": "ipython",
    "version": 3
   },
   "file_extension": ".py",
   "mimetype": "text/x-python",
   "name": "python",
   "nbconvert_exporter": "python",
   "pygments_lexer": "ipython3",
   "version": "3.9.12"
  }
 },
 "nbformat": 4,
 "nbformat_minor": 5
}
